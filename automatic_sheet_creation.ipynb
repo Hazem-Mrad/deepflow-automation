{
 "cells": [
  {
   "cell_type": "code",
   "execution_count": 1,
   "id": "081e1994",
   "metadata": {},
   "outputs": [
    {
     "name": "stdout",
     "output_type": "stream",
     "text": [
      "Requirement already satisfied: openpyxl in c:\\users\\hazem\\anaconda3\\lib\\site-packages (3.1.2)\n",
      "Requirement already satisfied: et-xmlfile in c:\\users\\hazem\\anaconda3\\lib\\site-packages (from openpyxl) (1.1.0)\n",
      "Note: you may need to restart the kernel to use updated packages.\n"
     ]
    }
   ],
   "source": [
    "pip install --upgrade openpyxl"
   ]
  },
  {
   "cell_type": "code",
   "execution_count": 2,
   "id": "99ffeaa3",
   "metadata": {},
   "outputs": [
    {
     "name": "stdout",
     "output_type": "stream",
     "text": [
      "Requirement already satisfied: xlsxwriter in c:\\users\\hazem\\anaconda3\\lib\\site-packages (3.1.9)\n",
      "Note: you may need to restart the kernel to use updated packages.\n"
     ]
    }
   ],
   "source": [
    "pip install xlsxwriter"
   ]
  },
  {
   "cell_type": "code",
   "execution_count": 37,
   "id": "996bbda3",
   "metadata": {},
   "outputs": [
    {
     "name": "stdout",
     "output_type": "stream",
     "text": [
      "Generated sheet for Member1. Output saved to: .\\Result\\Evaluation_1_Member1.xlsx\n",
      "Generated sheet for Member2. Output saved to: .\\Result\\Evaluation_2_Member2.xlsx\n",
      "Generated sheet for Member3. Output saved to: .\\Result\\Evaluation_3_Member3.xlsx\n"
     ]
    }
   ],
   "source": [
    "import openpyxl\n",
    "import os\n",
    "\n",
    "# Load the evaluation template\n",
    "template_path = 'evaluation_sheet.xlsx'  # Include the file extension\n",
    "wb = openpyxl.load_workbook(template_path)\n",
    "\n",
    "# List of member names\n",
    "member_names = [\n",
    "    \"Member1\",\n",
    "    \"Member2\",\n",
    "    #...\n",
    "    \"Member3\"\n",
    "]\n",
    "\n",
    "# Accessing and updating each sheet for each member\n",
    "for index, member_name in enumerate(member_names, start=1):\n",
    "    # Copy the first sheet\n",
    "    sheet = wb[wb.sheetnames[0]]  # Assuming the template is the first sheet in the workbook\n",
    "    \n",
    "    # Search for \"Name of assessed:\"\n",
    "    for row in sheet.iter_rows():\n",
    "        for cell in row:\n",
    "            if cell.value == \"Name of assessed:\":\n",
    "                # Get the cell one row to the right\n",
    "                member_cell = sheet.cell(row=cell.row, column=cell.column + 1)\n",
    "                member_cell.value = member_name  # Update the member's name\n",
    "                break\n",
    "        else:\n",
    "            continue\n",
    "        break\n",
    "    \n",
    "    output_folder = '.\\Result'  # Change this to your desired output folder\n",
    "    \n",
    "    if not os.path.exists(output_folder):\n",
    "        os.makedirs(output_folder)  # Create the output folder if it doesn't exist\n",
    "    \n",
    "    output_filename = f'Evaluation_{index}_{member_name}.xlsx'\n",
    "    output_path = os.path.join(output_folder, output_filename)\n",
    "    \n",
    "    wb.save(output_path)\n",
    "    print(f\"Generated sheet for {member_name}. Output saved to: {output_path}\")\n"
   ]
  },
  {
   "cell_type": "code",
   "execution_count": null,
   "id": "b88ef94c",
   "metadata": {},
   "outputs": [],
   "source": []
  }
 ],
 "metadata": {
  "kernelspec": {
   "display_name": "Python 3 (ipykernel)",
   "language": "python",
   "name": "python3"
  },
  "language_info": {
   "codemirror_mode": {
    "name": "ipython",
    "version": 3
   },
   "file_extension": ".py",
   "mimetype": "text/x-python",
   "name": "python",
   "nbconvert_exporter": "python",
   "pygments_lexer": "ipython3",
   "version": "3.11.4"
  }
 },
 "nbformat": 4,
 "nbformat_minor": 5
}
