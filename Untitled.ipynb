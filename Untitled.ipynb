{
 "cells": [
  {
   "cell_type": "code",
   "execution_count": 1,
   "id": "eadd55d3",
   "metadata": {},
   "outputs": [
    {
     "name": "stdout",
     "output_type": "stream",
     "text": [
      "Requirement already satisfied: openpyxl in c:\\users\\hazem\\anaconda3\\lib\\site-packages (3.1.2)\n",
      "Requirement already satisfied: et-xmlfile in c:\\users\\hazem\\anaconda3\\lib\\site-packages (from openpyxl) (1.1.0)\n",
      "Note: you may need to restart the kernel to use updated packages.\n"
     ]
    }
   ],
   "source": [
    "pip install openpyxl"
   ]
  },
  {
   "cell_type": "code",
   "execution_count": 7,
   "id": "e425fc18",
   "metadata": {},
   "outputs": [
    {
     "name": "stdout",
     "output_type": "stream",
     "text": [
      "Folders and Excel sheets created successfully.\n"
     ]
    }
   ],
   "source": [
    "import openpyxl\n",
    "import os\n",
    "from shutil import copyfile\n",
    "\n",
    "# Path to the Excel template file\n",
    "template_path = \"./template.xlsx\"\n",
    "\n",
    "# Directory to save the result folders\n",
    "result_directory = \"./result_folders\"\n",
    "\n",
    "# List of member names\n",
    "members = ['Member1', 'Member2', 'Member3']  # Add your list of member names\n",
    "\n",
    "# Create the result folders\n",
    "for member in members:\n",
    "    member_directory = os.path.join(result_directory, member)\n",
    "    os.makedirs(member_directory, exist_ok=True)\n",
    "\n",
    "    # Copy the template Excel file and create a new file for the member inside their folder\n",
    "    new_file_path = os.path.join(member_directory, f\"{member}_Sheet.xlsx\")\n",
    "    copyfile(template_path, new_file_path)\n",
    "\n",
    "    # Load the newly created Excel file\n",
    "    workbook = openpyxl.load_workbook(new_file_path)\n",
    "\n",
    "    # Access the active sheet (by default, it's named 'Sheet')\n",
    "    sheet = workbook.active\n",
    "\n",
    "    # Modify the sheet content if needed\n",
    "    # For example, change a specific cell's value\n",
    "    sheet['C2'] = f\"Candidate Name: {member}\"\n",
    "\n",
    "    # Save the modified workbook inside the member's folder\n",
    "    workbook.save(new_file_path)\n",
    "\n",
    "    # Close the workbook\n",
    "    workbook.close()\n",
    "\n",
    "print(\"Folders and Excel sheets created successfully.\")\n"
   ]
  },
  {
   "cell_type": "code",
   "execution_count": null,
   "id": "ee4541e2",
   "metadata": {},
   "outputs": [],
   "source": []
  }
 ],
 "metadata": {
  "kernelspec": {
   "display_name": "Python 3 (ipykernel)",
   "language": "python",
   "name": "python3"
  },
  "language_info": {
   "codemirror_mode": {
    "name": "ipython",
    "version": 3
   },
   "file_extension": ".py",
   "mimetype": "text/x-python",
   "name": "python",
   "nbconvert_exporter": "python",
   "pygments_lexer": "ipython3",
   "version": "3.11.4"
  }
 },
 "nbformat": 4,
 "nbformat_minor": 5
}
